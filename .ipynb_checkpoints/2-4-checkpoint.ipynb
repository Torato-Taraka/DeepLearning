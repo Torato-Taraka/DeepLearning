{
 "cells": [
  {
   "cell_type": "code",
   "execution_count": 1,
   "id": "professional-preservation",
   "metadata": {},
   "outputs": [],
   "source": [
    "from mxnet import nd"
   ]
  },
  {
   "cell_type": "code",
   "execution_count": 2,
   "id": "centered-barrel",
   "metadata": {},
   "outputs": [
    {
     "name": "stdout",
     "output_type": "stream",
     "text": [
      "['NDArray', '_Null', '__all__', '__builtins__', '__cached__', '__doc__', '__file__', '__loader__', '__name__', '__package__', '__spec__', '_internal', '_random_helper', 'current_context', 'exponential', 'exponential_like', 'gamma', 'gamma_like', 'generalized_negative_binomial', 'generalized_negative_binomial_like', 'multinomial', 'negative_binomial', 'negative_binomial_like', 'normal', 'normal_like', 'numeric_types', 'poisson', 'poisson_like', 'randint', 'randn', 'shuffle', 'uniform', 'uniform_like']\n"
     ]
    }
   ],
   "source": [
    "print(dir(nd.random))"
   ]
  },
  {
   "cell_type": "code",
   "execution_count": 4,
   "id": "adaptive-contrary",
   "metadata": {},
   "outputs": [
    {
     "data": {
      "text/plain": [
       "\n",
       "[19]\n",
       "<NDArray 1 @cpu(0)>"
      ]
     },
     "execution_count": 4,
     "metadata": {},
     "output_type": "execute_result"
    }
   ],
   "source": [
    "nd.random.randint(10,20)"
   ]
  },
  {
   "cell_type": "code",
   "execution_count": 5,
   "id": "operating-productivity",
   "metadata": {},
   "outputs": [
    {
     "name": "stdout",
     "output_type": "stream",
     "text": [
      "['Activation', 'BatchNorm', 'BatchNorm_v1', 'BilinearSampler', 'BlockGrad', 'CTCLoss', 'CachedOp', 'Cast', 'Concat', 'Convolution', 'Convolution_v1', 'Correlation', 'Crop', 'Custom', 'Deconvolution', 'Dropout', 'ElementWiseSum', 'Embedding', 'Flatten', 'FullyConnected', 'GridGenerator', 'IdentityAttachKLSparseReg', 'InstanceNorm', 'L2Normalization', 'LRN', 'LayerNorm', 'LeakyReLU', 'LinearRegressionOutput', 'LogisticRegressionOutput', 'MAERegressionOutput', 'MakeLoss', 'NDArray', 'Pad', 'Pooling', 'Pooling_v1', 'RNN', 'ROIPooling', 'Reshape', 'SVMOutput', 'SequenceLast', 'SequenceMask', 'SequenceReverse', 'SliceChannel', 'Softmax', 'SoftmaxActivation', 'SoftmaxOutput', 'SpatialTransformer', 'SwapAxis', 'UpSampling', '_DTYPE_MX_TO_NP', '_DTYPE_NP_TO_MX', '_GRAD_REQ_MAP', '__all__', '__builtins__', '__cached__', '__doc__', '__file__', '__loader__', '__name__', '__package__', '__path__', '__spec__', '_internal', '_ndarray_cls', '_new_empty_handle', 'abs', 'adam_update', 'add', 'add_n', 'all_finite', 'amp_cast', 'amp_multicast', 'arange', 'arccos', 'arccosh', 'arcsin', 'arcsinh', 'arctan', 'arctanh', 'argmax', 'argmax_channel', 'argmin', 'argsort', 'array', 'batch_dot', 'batch_take', 'broadcast_add', 'broadcast_axes', 'broadcast_axis', 'broadcast_div', 'broadcast_equal', 'broadcast_greater', 'broadcast_greater_equal', 'broadcast_hypot', 'broadcast_lesser', 'broadcast_lesser_equal', 'broadcast_like', 'broadcast_logical_and', 'broadcast_logical_or', 'broadcast_logical_xor', 'broadcast_maximum', 'broadcast_minimum', 'broadcast_minus', 'broadcast_mod', 'broadcast_mul', 'broadcast_not_equal', 'broadcast_plus', 'broadcast_power', 'broadcast_sub', 'broadcast_to', 'cast', 'cast_storage', 'cbrt', 'ceil', 'choose_element_0index', 'clip', 'concat', 'concatenate', 'contrib', 'cos', 'cosh', 'crop', 'ctc_loss', 'degrees', 'depth_to_space', 'diag', 'divide', 'dot', 'elemwise_add', 'elemwise_div', 'elemwise_mul', 'elemwise_sub', 'empty', 'equal', 'erf', 'erfinv', 'exp', 'expand_dims', 'expm1', 'eye', 'fill_element_0index', 'fix', 'flatten', 'flip', 'floor', 'from_dlpack', 'from_numpy', 'ftml_update', 'ftrl_update', 'full', 'gamma', 'gammaln', 'gather_nd', 'gen__internal', 'gen_contrib', 'gen_image', 'gen_linalg', 'gen_op', 'gen_sparse', 'greater', 'greater_equal', 'hard_sigmoid', 'histogram', 'identity', 'image', 'imdecode', 'khatri_rao', 'lesser', 'lesser_equal', 'linalg', 'linalg_extractdiag', 'linalg_extracttrian', 'linalg_gelqf', 'linalg_gemm', 'linalg_gemm2', 'linalg_inverse', 'linalg_makediag', 'linalg_maketrian', 'linalg_potrf', 'linalg_potri', 'linalg_sumlogdiag', 'linalg_syrk', 'linalg_trmm', 'linalg_trsm', 'linspace', 'load', 'load_frombuffer', 'log', 'log10', 'log1p', 'log2', 'log_softmax', 'logical_and', 'logical_not', 'logical_or', 'logical_xor', 'make_loss', 'max', 'max_axis', 'maximum', 'mean', 'min', 'min_axis', 'minimum', 'modulo', 'moments', 'moveaxis', 'mp_nag_mom_update', 'mp_sgd_mom_update', 'mp_sgd_update', 'multi_all_finite', 'multi_mp_sgd_mom_update', 'multi_mp_sgd_update', 'multi_sgd_mom_update', 'multi_sgd_update', 'multiply', 'nag_mom_update', 'nanprod', 'nansum', 'ndarray', 'negative', 'norm', 'normal', 'not_equal', 'one_hot', 'onehot_encode', 'ones', 'ones_like', 'op', 'pad', 'pick', 'power', 'prod', 'radians', 'random', 'random_exponential', 'random_gamma', 'random_generalized_negative_binomial', 'random_negative_binomial', 'random_normal', 'random_poisson', 'random_randint', 'random_uniform', 'ravel_multi_index', 'rcbrt', 'reciprocal', 'register', 'relu', 'repeat', 'reshape', 'reshape_like', 'reverse', 'rint', 'rmsprop_update', 'rmspropalex_update', 'round', 'rsqrt', 'sample_exponential', 'sample_gamma', 'sample_generalized_negative_binomial', 'sample_multinomial', 'sample_negative_binomial', 'sample_normal', 'sample_poisson', 'sample_uniform', 'save', 'scatter_nd', 'sgd_mom_update', 'sgd_update', 'shape_array', 'shuffle', 'sigmoid', 'sign', 'signsgd_update', 'signum_update', 'sin', 'sinh', 'size_array', 'slice', 'slice_axis', 'slice_like', 'smooth_l1', 'softmax', 'softmax_cross_entropy', 'softmin', 'softsign', 'sort', 'space_to_depth', 'sparse', 'split', 'split_v2', 'sqrt', 'square', 'squeeze', 'stack', 'stop_gradient', 'subtract', 'sum', 'sum_axis', 'swapaxes', 'take', 'tan', 'tanh', 'tile', 'to_dlpack_for_read', 'to_dlpack_for_write', 'topk', 'transpose', 'true_divide', 'trunc', 'uniform', 'unravel_index', 'utils', 'waitall', 'where', 'zeros', 'zeros_like']\n"
     ]
    }
   ],
   "source": [
    "print(dir(nd))"
   ]
  },
  {
   "cell_type": "code",
   "execution_count": 9,
   "id": "important-brooks",
   "metadata": {},
   "outputs": [
    {
     "name": "stdout",
     "output_type": "stream",
     "text": [
      "Help on function norm:\n",
      "\n",
      "norm(data=None, ord=_Null, axis=_Null, out_dtype=_Null, keepdims=_Null, out=None, name=None, **kwargs)\n",
      "    Computes the norm on an NDArray.\n",
      "    \n",
      "    This operator computes the norm on an NDArray with the specified axis, depending\n",
      "    on the value of the ord parameter. By default, it computes the L2 norm on the entire\n",
      "    array. Currently only ord=2 supports sparse ndarrays.\n",
      "    \n",
      "    Examples::\n",
      "    \n",
      "      x = [[[1, 2],\n",
      "            [3, 4]],\n",
      "           [[2, 2],\n",
      "            [5, 6]]]\n",
      "    \n",
      "      norm(x, ord=2, axis=1) = [[3.1622777 4.472136 ]\n",
      "                                [5.3851647 6.3245554]]\n",
      "    \n",
      "      norm(x, ord=1, axis=1) = [[4., 6.],\n",
      "                                [7., 8.]]\n",
      "    \n",
      "      rsp = x.cast_storage('row_sparse')\n",
      "    \n",
      "      norm(rsp) = [5.47722578]\n",
      "    \n",
      "      csr = x.cast_storage('csr')\n",
      "    \n",
      "      norm(csr) = [5.47722578]\n",
      "    \n",
      "    \n",
      "    \n",
      "    Defined in C:\\Jenkins\\workspace\\mxnet-tag\\mxnet\\src\\operator\\tensor\\broadcast_reduce_op_value.cc:L350\n",
      "    \n",
      "    Parameters\n",
      "    ----------\n",
      "    data : NDArray\n",
      "        The input\n",
      "    ord : int, optional, default='2'\n",
      "        Order of the norm. Currently ord=1 and ord=2 is supported.\n",
      "    axis : Shape or None, optional, default=None\n",
      "        The axis or axes along which to perform the reduction.\n",
      "          The default, `axis=()`, will compute over all elements into a\n",
      "          scalar array with shape `(1,)`.\n",
      "          If `axis` is int, a reduction is performed on a particular axis.\n",
      "          If `axis` is a 2-tuple, it specifies the axes that hold 2-D matrices,\n",
      "          and the matrix norms of these matrices are computed.\n",
      "    out_dtype : {None, 'float16', 'float32', 'float64', 'int32', 'int64', 'int8'},optional, default='None'\n",
      "        The data type of the output.\n",
      "    keepdims : boolean, optional, default=0\n",
      "        If this is set to `True`, the reduced axis is left in the result as dimension with size one.\n",
      "    \n",
      "    out : NDArray, optional\n",
      "        The output NDArray to hold the result.\n",
      "    \n",
      "    Returns\n",
      "    -------\n",
      "    out : NDArray or list of NDArrays\n",
      "        The output of this function.\n",
      "\n"
     ]
    }
   ],
   "source": [
    "help(nd.norm)"
   ]
  },
  {
   "cell_type": "code",
   "execution_count": 17,
   "id": "executed-horizon",
   "metadata": {},
   "outputs": [
    {
     "data": {
      "text/plain": [
       "\n",
       "[3.]\n",
       "<NDArray 1 @cpu(0)>"
      ]
     },
     "execution_count": 17,
     "metadata": {},
     "output_type": "execute_result"
    }
   ],
   "source": [
    "nd.norm(nd.array([[1], [2]]), ord = 1, axis = 0)"
   ]
  },
  {
   "cell_type": "code",
   "execution_count": 18,
   "id": "cordless-carry",
   "metadata": {},
   "outputs": [],
   "source": [
    "nd.normal?"
   ]
  },
  {
   "cell_type": "code",
   "execution_count": null,
   "id": "christian-stanley",
   "metadata": {},
   "outputs": [],
   "source": []
  }
 ],
 "metadata": {
  "kernelspec": {
   "display_name": "Python 3",
   "language": "python",
   "name": "python3"
  },
  "language_info": {
   "codemirror_mode": {
    "name": "ipython",
    "version": 3
   },
   "file_extension": ".py",
   "mimetype": "text/x-python",
   "name": "python",
   "nbconvert_exporter": "python",
   "pygments_lexer": "ipython3",
   "version": "3.6.12"
  }
 },
 "nbformat": 4,
 "nbformat_minor": 5
}
