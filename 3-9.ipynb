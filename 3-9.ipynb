{
 "cells": [
  {
   "cell_type": "code",
   "execution_count": 1,
   "id": "horizontal-tunnel",
   "metadata": {},
   "outputs": [],
   "source": [
    "%matplotlib inline\n",
    "import d2lzh as d2l\n",
    "from mxnet import nd\n",
    "from mxnet.gluon import loss as gloss"
   ]
  },
  {
   "cell_type": "code",
   "execution_count": 2,
   "id": "independent-melbourne",
   "metadata": {},
   "outputs": [],
   "source": [
    "batch_size = 256\n",
    "train_iter, test_iter = d2l.load_data_fashion_mnist(batch_size)"
   ]
  },
  {
   "cell_type": "code",
   "execution_count": 3,
   "id": "optical-packing",
   "metadata": {},
   "outputs": [],
   "source": [
    "num_inputs, num_outputs, num_hiddens = 784, 10, 256"
   ]
  },
  {
   "cell_type": "code",
   "execution_count": 4,
   "id": "reported-multimedia",
   "metadata": {},
   "outputs": [],
   "source": [
    "W1 = nd.random.normal(scale = 0.01, shape=(num_inputs, num_hiddens))\n",
    "b1 = nd.zeros(num_hiddens)\n",
    "W2 = nd.random.normal(scale = 0.01, shape=(num_hiddens, num_outputs))\n",
    "b2 = nd.zeros(num_outputs)\n",
    "params = [W1, b1, W2, b2]\n",
    "\n",
    "for param in params:\n",
    "    param.attach_grad()"
   ]
  },
  {
   "cell_type": "code",
   "execution_count": 19,
   "id": "portuguese-reference",
   "metadata": {},
   "outputs": [],
   "source": [
    "def relu(X):\n",
    "    return nd.maximum(X, 0)"
   ]
  },
  {
   "cell_type": "code",
   "execution_count": 25,
   "id": "tested-corps",
   "metadata": {},
   "outputs": [],
   "source": [
    "def sigmoid(X):\n",
    "    return 1/(1+(-X).exp())"
   ]
  },
  {
   "cell_type": "code",
   "execution_count": 26,
   "id": "sealed-concentration",
   "metadata": {},
   "outputs": [],
   "source": [
    "def tanh(X):\n",
    "    return (1-(-X * 2).exp()) / (1+(-X * 2).exp())"
   ]
  },
  {
   "cell_type": "code",
   "execution_count": 27,
   "id": "trying-university",
   "metadata": {},
   "outputs": [],
   "source": [
    "def net(X):\n",
    "    X = X.reshape((-1, num_inputs))\n",
    "    H = tanh(nd.dot(X, W1) + b1)\n",
    "    return nd.dot(H, W2) + b2"
   ]
  },
  {
   "cell_type": "code",
   "execution_count": 28,
   "id": "similar-aruba",
   "metadata": {},
   "outputs": [],
   "source": [
    "loss = gloss.SoftmaxCrossEntropyLoss()"
   ]
  },
  {
   "cell_type": "code",
   "execution_count": 29,
   "id": "treated-indian",
   "metadata": {},
   "outputs": [
    {
     "name": "stdout",
     "output_type": "stream",
     "text": [
      "epoch 1, loss 1.2026, train acc 0.802, test acc 0.872\n",
      "epoch 2, loss 0.5352, train acc 0.848, test acc 0.863\n",
      "epoch 3, loss 0.4858, train acc 0.855, test acc 0.855\n",
      "epoch 4, loss 0.4304, train acc 0.863, test acc 0.879\n",
      "epoch 5, loss 0.4110, train acc 0.868, test acc 0.882\n",
      "epoch 6, loss 0.3616, train acc 0.876, test acc 0.879\n",
      "epoch 7, loss 0.3528, train acc 0.878, test acc 0.882\n",
      "epoch 8, loss 0.3403, train acc 0.881, test acc 0.886\n",
      "epoch 9, loss 0.3182, train acc 0.886, test acc 0.875\n",
      "epoch 10, loss 0.3158, train acc 0.887, test acc 0.887\n"
     ]
    }
   ],
   "source": [
    "num_epochs, lr = 10, 0.5\n",
    "d2l.train_ch3(net, train_iter, test_iter, loss, num_epochs, batch_size, params, lr)"
   ]
  },
  {
   "cell_type": "code",
   "execution_count": null,
   "id": "moving-article",
   "metadata": {},
   "outputs": [],
   "source": []
  }
 ],
 "metadata": {
  "kernelspec": {
   "display_name": "Python 3",
   "language": "python",
   "name": "python3"
  },
  "language_info": {
   "codemirror_mode": {
    "name": "ipython",
    "version": 3
   },
   "file_extension": ".py",
   "mimetype": "text/x-python",
   "name": "python",
   "nbconvert_exporter": "python",
   "pygments_lexer": "ipython3",
   "version": "3.6.12"
  }
 },
 "nbformat": 4,
 "nbformat_minor": 5
}
