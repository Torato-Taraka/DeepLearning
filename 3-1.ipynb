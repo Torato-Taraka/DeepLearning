{
 "cells": [
  {
   "cell_type": "code",
   "execution_count": 1,
   "id": "disabled-modeling",
   "metadata": {},
   "outputs": [],
   "source": [
    "from mxnet import nd"
   ]
  },
  {
   "cell_type": "code",
   "execution_count": 17,
   "id": "alike-summary",
   "metadata": {},
   "outputs": [
    {
     "data": {
      "text/plain": [
       "(\n",
       " [[1. 1.]\n",
       "  [1. 1.]\n",
       "  [1. 1.]]\n",
       " <NDArray 3x2 @cpu(0)>,\n",
       " \n",
       " [2. 5.]\n",
       " <NDArray 2 @cpu(0)>)"
      ]
     },
     "execution_count": 17,
     "metadata": {},
     "output_type": "execute_result"
    }
   ],
   "source": [
    "x = nd.ones((3,2))\n",
    "w = nd.array([2, 5])\n",
    "x, w"
   ]
  },
  {
   "cell_type": "code",
   "execution_count": 26,
   "id": "destroyed-enterprise",
   "metadata": {},
   "outputs": [
    {
     "data": {
      "text/plain": [
       "0.0005505084991455078"
      ]
     },
     "execution_count": 26,
     "metadata": {},
     "output_type": "execute_result"
    }
   ],
   "source": [
    "from time import time\n",
    "start = time()\n",
    "d = x * w\n",
    "time()-start"
   ]
  },
  {
   "cell_type": "code",
   "execution_count": null,
   "id": "involved-distributor",
   "metadata": {},
   "outputs": [],
   "source": []
  }
 ],
 "metadata": {
  "kernelspec": {
   "display_name": "Python 3",
   "language": "python",
   "name": "python3"
  },
  "language_info": {
   "codemirror_mode": {
    "name": "ipython",
    "version": 3
   },
   "file_extension": ".py",
   "mimetype": "text/x-python",
   "name": "python",
   "nbconvert_exporter": "python",
   "pygments_lexer": "ipython3",
   "version": "3.6.12"
  }
 },
 "nbformat": 4,
 "nbformat_minor": 5
}
